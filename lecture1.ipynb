{
 "cells": [
  {
   "cell_type": "code",
   "execution_count": 7,
   "id": "dcba1208-7b0d-4eed-8f4c-2ac418920739",
   "metadata": {},
   "outputs": [
    {
     "name": "stdout",
     "output_type": "stream",
     "text": [
      "1\n",
      "4\n",
      "7\n",
      "7\n",
      "5\n",
      "4\n",
      "3\n",
      "3\n",
      "2\n",
      "1\n",
      "0.2306632454570957\n",
      "0.18152805234554203\n",
      "0.6750292859242696\n",
      "0.37238894887349805\n",
      "0.7762506378863298\n",
      "0.7928406120219196\n",
      "0.972329328158685\n",
      "0.6147593907912771\n",
      "0.9862888773663192\n",
      "0.9367716033378993\n",
      "1\n",
      "3\n",
      "1\n",
      "2\n",
      "5\n",
      "2\n",
      "4\n",
      "1\n",
      "1\n",
      "3\n"
     ]
    }
   ],
   "source": [
    "import random as rnd\n",
    "for i in range(10):\n",
    "    print(rnd.randrange(1,10))\n",
    "#testing the random.random() function:\n",
    "for i in range(10):\n",
    "    print(rnd.random())#gives a floating point value between 0 and 1\n",
    "\n",
    "#testing the random.randint() function:\n",
    "for i in range(10):\n",
    "    print(rnd.randint(1,5))#returns random integer between a and b (all included)\n"
   ]
  },
  {
   "cell_type": "code",
   "execution_count": 10,
   "id": "e33143cd-362c-4b37-8b34-4353153ba781",
   "metadata": {},
   "outputs": [
    {
     "name": "stdout",
     "output_type": "stream",
     "text": [
      "enter the elements to append: \n"
     ]
    },
    {
     "name": "stdin",
     "output_type": "stream",
     "text": [
      " 1\n",
      " 4\n",
      " 3\n",
      " -1\n"
     ]
    },
    {
     "name": "stdout",
     "output_type": "stream",
     "text": [
      "[1, 4, 3]\n"
     ]
    }
   ],
   "source": [
    "l = []\n",
    "print(\"enter the elements to append: \")\n",
    "while True:\n",
    "    i = int(input())\n",
    "    if(i == -1): break\n",
    "    l.append(i)\n",
    "print(l)\n"
   ]
  },
  {
   "cell_type": "code",
   "execution_count": 2,
   "id": "6785d100-79e5-4510-a343-7b64457e9ba5",
   "metadata": {},
   "outputs": [
    {
     "data": {
      "text/plain": [
       "\u001b[1;31mSignature:\u001b[0m \u001b[0mfn\u001b[0m\u001b[1;33m.\u001b[0m\u001b[0msum3rand\u001b[0m\u001b[1;33m(\u001b[0m\u001b[0ma\u001b[0m\u001b[1;33m,\u001b[0m \u001b[0mb\u001b[0m\u001b[1;33m)\u001b[0m\u001b[1;33m\u001b[0m\u001b[1;33m\u001b[0m\u001b[0m\n",
       "\u001b[1;31mDocstring:\u001b[0m This sum3rand(a,b)--> returns the sum of 3 random integers in the range a to b\n",
       "\u001b[1;31mFile:\u001b[0m      c:\\users\\kostov jyoti phukan\\desktop\\graph theory python\\networkx python\\fn.py\n",
       "\u001b[1;31mType:\u001b[0m      function"
      ]
     },
     "metadata": {},
     "output_type": "display_data"
    }
   ],
   "source": [
    "import fn\n",
    "fn.sum3rand?"
   ]
  },
  {
   "cell_type": "code",
   "execution_count": 9,
   "id": "abc90e81-3bc1-498b-b9a1-ad6ee2aaef01",
   "metadata": {},
   "outputs": [
    {
     "name": "stdout",
     "output_type": "stream",
     "text": [
      "add the key and value pairs to the dictionary: \n"
     ]
    },
    {
     "name": "stdin",
     "output_type": "stream",
     "text": [
      "enter the key:  a \n",
      "enter the value corresponding to a :  10\n",
      "enter the key:  b \n",
      "enter the value corresponding to b :  20\n",
      "enter the key:  end\n"
     ]
    },
    {
     "name": "stdout",
     "output_type": "stream",
     "text": [
      "{'a ': 10, 'b ': 20}\n"
     ]
    },
    {
     "data": {
      "text/plain": [
       "dict_keys(['a ', 'b '])"
      ]
     },
     "execution_count": 9,
     "metadata": {},
     "output_type": "execute_result"
    }
   ],
   "source": [
    "d = {}\n",
    "print(\"add the key and value pairs to the dictionary: \")\n",
    "while True:\n",
    "    key = input(\"enter the key: \")\n",
    "    if(key == \"end\"): break\n",
    "    value = int(input(f\"enter the value corresponding to {key}: \"))\n",
    "    if(value == -1): break\n",
    "    d[key] = value\n",
    "    \n",
    "print(d)\n"
   ]
  },
  {
   "cell_type": "code",
   "execution_count": 11,
   "id": "5cf0bd32-aab5-4a59-8788-de062eb282dd",
   "metadata": {},
   "outputs": [
    {
     "name": "stdout",
     "output_type": "stream",
     "text": [
      "{0: 0, 1: 1, 2: 4, 3: 9, 4: 16, 5: 25, 6: 36, 7: 49, 8: 64, 9: 81, 10: 100}\n",
      "{0: 0, 2: 4, 4: 16, 6: 36, 8: 64, 10: 100}\n"
     ]
    }
   ],
   "source": [
    "#d1 containes all value x in range 0 to 11 such that if x if the key then x**2 is the value\n",
    "d1 = {x:x**2 for x in range(11)}\n",
    "print(d1)\n",
    "\n",
    "#d2 contains all value x in range 0 to 11 such that x is an even number and if the key is x then the value is x**2\n",
    "d2 = {x:x**2 for x in range(11) if x%2 == 0}\n",
    "print(d2)"
   ]
  }
 ],
 "metadata": {
  "kernelspec": {
   "display_name": "Python 3 (ipykernel)",
   "language": "python",
   "name": "python3"
  },
  "language_info": {
   "codemirror_mode": {
    "name": "ipython",
    "version": 3
   },
   "file_extension": ".py",
   "mimetype": "text/x-python",
   "name": "python",
   "nbconvert_exporter": "python",
   "pygments_lexer": "ipython3",
   "version": "3.10.5"
  }
 },
 "nbformat": 4,
 "nbformat_minor": 5
}
